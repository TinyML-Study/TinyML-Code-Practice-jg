{
  "nbformat": 4,
  "nbformat_minor": 0,
  "metadata": {
    "colab": {
      "name": "Speech Recognition Training Notebook",
      "provenance": [],
      "collapsed_sections": []
    },
    "kernelspec": {
      "name": "python3",
      "display_name": "Python 3"
    },
    "accelerator": "GPU"
  },
  "cells": [
    {
      "cell_type": "markdown",
      "metadata": {
        "id": "XNFWX4V3Zu7s",
        "colab_type": "text"
      },
      "source": [
        "# Speech Recognition Training Notebook\n",
        "\n"
      ]
    },
    {
      "cell_type": "markdown",
      "metadata": {
        "id": "HCxaBA1gJICK",
        "colab_type": "text"
      },
      "source": [
        "\n",
        "This notebook demonstrates how to train a 20kb [Simple Audio Recognition](https://www.tensorflow.org/tutorials/sequences/audio_recognition) model for [TensorFlow Lite for Microcontrollers](https://tensorflow.org/lite/microcontrollers/overview). It will produce the same model used in the [micro_speech](https://github.com/tensorflow/tensorflow/tree/master/tensorflow/lite/experimental/micro/examples/micro_speech) example application.\n",
        "\n",
        "The model is designed to be used with [Google Colaboratory](https://colab.research.google.com).\n",
        "\n",
        "<table class=\"tfo-notebook-buttons\" align=\"left\">\n",
        "  <td>\n",
        "    <a target=\"_blank\" href=\"https://colab.research.google.com/drive/1cR5JJNYzWLlgSK9c16nnFLhxtW_bmO-p#offline=true&sandboxMode=true\"><img src=\"https://www.tensorflow.org/images/colab_logo_32px.png\" />Run in Google Colab</a>\n",
        "  </td>\n",
        "  <td>\n",
        "    <a target=\"_blank\" href=\"https://github.com/tensorflow/tensorflow/blob/master/tensorflow/lite/experimental/micro/examples/micro_speech/train_speech_model.ipynb\"><img src=\"https://www.tensorflow.org/images/GitHub-Mark-32px.png\" />View source on GitHub</a>\n",
        "  </td>\n",
        "</table>\n",
        "\n",
        "\n"
      ]
    },
    {
      "cell_type": "markdown",
      "metadata": {
        "id": "7mpixtCtJPHk",
        "colab_type": "text"
      },
      "source": [
        "The notebook runs Python scripts to train and freeze the model, and uses the TensorFlow Lite converter to convert it for use with TensorFlow Lite for Microcontrollers.\n",
        "\n",
        "**Training is much faster using GPU acceleration.** Before you proceed, ensure you are using a GPU runtime by going to **Runtime -> Change runtime type** and selecting **GPU**. Training 18,000 iterations will take 1.5-2 hours on a GPU runtime.\n",
        "\n",
        "## Configure training\n",
        "\n",
        "The following `os.environ` lines can be customized to set the words that will be trained for, and the steps and learning rate of the training. The default values will result in the same model that is used in the micro_speech example. Run the cell to set the configuration:"
      ]
    },
    {
      "cell_type": "code",
      "metadata": {
        "id": "oMjI2a-4IsyN",
        "colab_type": "code",
        "colab": {
          "base_uri": "https://localhost:8080/",
          "height": 86
        },
        "outputId": "ece3a360-02c6-4398-9854-2725c2daa308"
      },
      "source": [
        "import os\n",
        "\n",
        "# A comma-delimited list of the words you want to train for.\n",
        "# The options are: yes,no,up,down,left,right,on,off,stop,go\n",
        "# All other words will be used to train an \"unknown\" category.\n",
        "WANTED_WORDS = [\"yes\", \"no\"]\n",
        "\n",
        "# The number of steps and learning rates can be specified as comma-separated\n",
        "# lists to define the rate at each stage. For example,\n",
        "# TRAINING_STEPS=15000,3000 and LEARNING_RATE=0.001,0.0001\n",
        "# will run 18,000 training loops in total, with a rate of 0.001 for the first\n",
        "# 15,000, and 0.0001 for the final 3,000.\n",
        "TRAINING_STEPS = [15000, 3000]\n",
        "LEARNING_RATE = [\"0.001\", \"0.0001\"]\n",
        "\n",
        "# Calculate the total number of steps, which is used to identify the checkpoint\n",
        "# file name.\n",
        "TOTAL_STEPS = sum(TRAINING_STEPS)\n",
        "\n",
        "# Print the configuration to confirm it\n",
        "!echo \"Training these words: {WANTED_WORDS}\"\n",
        "!echo \"Training steps in each stage: {TRAINING_STEPS}\"\n",
        "!echo \"Learning rate in each stage: {LEARNING_RATE}\"\n",
        "!echo \"Total number of training steps: {TOTAL_STEPS}\""
      ],
      "execution_count": null,
      "outputs": [
        {
          "output_type": "stream",
          "text": [
            "Training these words: ['yes', 'no']\n",
            "Training steps in each stage: [15000, 3000]\n",
            "Learning rate in each stage: ['0.001', '0.0001']\n",
            "Total number of training steps: 18000\n"
          ],
          "name": "stdout"
        }
      ]
    },
    {
      "cell_type": "markdown",
      "metadata": {
        "id": "NT4hbq-GSgD4",
        "colab_type": "text"
      },
      "source": [
        "# Connect to Google Drive\n",
        "\n",
        "This section connects the notebook with your Google Drive. Since Colab instances are ephemeral, we need somewhere more permanent to store the trained ML model. Running this cell mounts your Google Drive just like a regular folder at `/content/drive`."
      ]
    },
    {
      "cell_type": "code",
      "metadata": {
        "id": "gf-psq8uJeou",
        "colab_type": "code",
        "colab": {}
      },
      "source": [
        "import os.path\n",
        "from google.colab import drive\n",
        "\n",
        "DRIVE_STORAGE_PATH = '/content/drive/My Drive/speech-recognition'\n",
        "\n",
        "def ensure_drive():\n",
        "  if not os.path.exists('/content/drive/My Drive'):\n",
        "    drive.mount('/content/drive', force_remount=True)\n",
        "    \n",
        "ensure_drive()"
      ],
      "execution_count": null,
      "outputs": []
    },
    {
      "cell_type": "markdown",
      "metadata": {
        "id": "ej9eyTYtI_RR",
        "colab_type": "text"
      },
      "source": [
        "## Install dependencies\n",
        "\n",
        "Next, we'll install a GPU build of TensorFlow, so we can use GPU acceleration for training."
      ]
    },
    {
      "cell_type": "code",
      "metadata": {
        "id": "Nd1iM1o2ymvA",
        "colab_type": "code",
        "colab": {
          "base_uri": "https://localhost:8080/",
          "height": 208
        },
        "outputId": "75d863e1-c978-4aff-d913-3101fdf8f025"
      },
      "source": [
        "# Replace Colab's default TensorFlow install with the pinned version used\n",
        "# for speech training.\n",
        "!pip uninstall -y tensorflow tensorflow_estimatorpip uninstall -y tensorflow tensorflow_estimator tensorboard\n",
        "!pip install -q tf-estimator-nightly==1.14.0.dev2019072901 tf-nightly-gpu==1.15.0.dev20190729"
      ],
      "execution_count": null,
      "outputs": [
        {
          "output_type": "stream",
          "text": [
            "Uninstalling tensorflow-1.15.0:\n",
            "  Successfully uninstalled tensorflow-1.15.0\n",
            "\u001b[33mWARNING: Skipping tensorflow-estimatorpip as it is not installed.\u001b[0m\n",
            "\u001b[33mWARNING: Skipping uninstall as it is not installed.\u001b[0m\n",
            "Uninstalling tensorflow-estimator-1.15.1:\n",
            "  Successfully uninstalled tensorflow-estimator-1.15.1\n",
            "Uninstalling tensorboard-1.15.0:\n",
            "  Successfully uninstalled tensorboard-1.15.0\n",
            "\u001b[K     |████████████████████████████████| 501kB 2.8MB/s \n",
            "\u001b[K     |████████████████████████████████| 406.6MB 41kB/s \n",
            "\u001b[K     |████████████████████████████████| 3.8MB 43.3MB/s \n",
            "\u001b[?25h"
          ],
          "name": "stdout"
        }
      ]
    },
    {
      "cell_type": "markdown",
      "metadata": {
        "id": "WfoVL_lYaRkU",
        "colab_type": "text"
      },
      "source": [
        "## Download TensorFlow"
      ]
    },
    {
      "cell_type": "markdown",
      "metadata": {
        "id": "iT6PCd82J4BO",
        "colab_type": "text"
      },
      "source": [
        "We'll also clone the TensorFlow repository, which contains the scripts that train and freeze the model."
      ]
    },
    {
      "cell_type": "code",
      "metadata": {
        "id": "etSLy5EcZsp2",
        "colab_type": "code",
        "colab": {
          "base_uri": "https://localhost:8080/",
          "height": 69
        },
        "outputId": "9ed2ad25-df3c-4826-fd18-a33c3ae004e3"
      },
      "source": [
        "# Clone the repository from GitHub\n",
        "!git clone -q https://github.com/tensorflow/tensorflow\n",
        "# Check out a commit that has been tested to work\n",
        "# with the build of TensorFlow we're using\n",
        "!git -c advice.detachedHead=false -C tensorflow checkout -f 17ce384df70\n",
        "\n",
        "import subprocess\n",
        "subprocess.run(\n",
        "    ['git', '-C', 'tensorflow', 'apply', '-'],\n",
        "    stdout=subprocess.PIPE,\n",
        "    stderr=subprocess.PIPE,\n",
        "    encoding='utf-8',\n",
        "    check=True,\n",
        "    input=\"\"\"\\\n",
        "diff --git a/tensorflow/examples/speech_commands/train.py b/tensorflow/examples/speech_commands/train.py\n",
        "index 446e351cb8..431c2d3d34 100644\n",
        "--- a/tensorflow/examples/speech_commands/train.py\n",
        "+++ b/tensorflow/examples/speech_commands/train.py\n",
        "@@ -234,7 +234,7 @@ def main(_):\n",
        "             dropout_prob: 0.5\n",
        "         })\n",
        "     train_writer.add_summary(train_summary, training_step)\n",
        "-    tf.compat.v1.logging.info(\n",
        "+    tf.compat.v1.logging.debug(\n",
        "         'Step #%d: rate %f, accuracy %.1f%%, cross entropy %f' %\n",
        "         (training_step, learning_rate_value, train_accuracy * 100,\n",
        "          cross_entropy_value))\n",
        "\"\"\")"
      ],
      "execution_count": null,
      "outputs": [
        {
          "output_type": "stream",
          "text": [
            "Checking out files: 100% (9047/9047), done.\n",
            "HEAD is now at 17ce384df7 Share ownership of `UnboundedWorkQueue` between collective executor and executor manager.\n"
          ],
          "name": "stdout"
        },
        {
          "output_type": "execute_result",
          "data": {
            "text/plain": [
              "CompletedProcess(args=['git', '-C', 'tensorflow', 'apply', '-'], returncode=0, stdout='', stderr='')"
            ]
          },
          "metadata": {
            "tags": []
          },
          "execution_count": 5
        }
      ]
    },
    {
      "cell_type": "markdown",
      "metadata": {
        "id": "rWkYEP2NOJME",
        "colab_type": "text"
      },
      "source": [
        "### Optional: Visualize graph and training rate"
      ]
    },
    {
      "cell_type": "code",
      "metadata": {
        "id": "S-2rS3ZyLVYq",
        "colab_type": "code",
        "colab": {
          "base_uri": "https://localhost:8080/",
          "height": 17
        },
        "outputId": "7335e128-fa7d-4776-ed32-068cf379c6d4"
      },
      "source": [
        "!mkdir -p /content/retrain_logs\n",
        "%load_ext tensorboard\n",
        "%tensorboard --logdir /content/retrain_logs"
      ],
      "execution_count": null,
      "outputs": [
        {
          "output_type": "display_data",
          "data": {
            "text/html": [
              "\n",
              "    <div id=\"root\"></div>\n",
              "    <script>\n",
              "      (function() {\n",
              "        window.TENSORBOARD_ENV = window.TENSORBOARD_ENV || {};\n",
              "        window.TENSORBOARD_ENV[\"IN_COLAB\"] = true;\n",
              "        document.querySelector(\"base\").href = \"https://localhost:6006\";\n",
              "        function fixUpTensorboard(root) {\n",
              "          const tftb = root.querySelector(\"tf-tensorboard\");\n",
              "          // Disable the fragment manipulation behavior in Colab. Not\n",
              "          // only is the behavior not useful (as the iframe's location\n",
              "          // is not visible to the user), it causes TensorBoard's usage\n",
              "          // of `window.replace` to navigate away from the page and to\n",
              "          // the `localhost:<port>` URL specified by the base URI, which\n",
              "          // in turn causes the frame to (likely) crash.\n",
              "          tftb.removeAttribute(\"use-hash\");\n",
              "        }\n",
              "        function executeAllScripts(root) {\n",
              "          // When `script` elements are inserted into the DOM by\n",
              "          // assigning to an element's `innerHTML`, the scripts are not\n",
              "          // executed. Thus, we manually re-insert these scripts so that\n",
              "          // TensorBoard can initialize itself.\n",
              "          for (const script of root.querySelectorAll(\"script\")) {\n",
              "            const newScript = document.createElement(\"script\");\n",
              "            newScript.type = script.type;\n",
              "            newScript.textContent = script.textContent;\n",
              "            root.appendChild(newScript);\n",
              "            script.remove();\n",
              "          }\n",
              "        }\n",
              "        function setHeight(root, height) {\n",
              "          // We set the height dynamically after the TensorBoard UI has\n",
              "          // been initialized. This avoids an intermediate state in\n",
              "          // which the container plus the UI become taller than the\n",
              "          // final width and cause the Colab output frame to be\n",
              "          // permanently resized, eventually leading to an empty\n",
              "          // vertical gap below the TensorBoard UI. It's not clear\n",
              "          // exactly what causes this problematic intermediate state,\n",
              "          // but setting the height late seems to fix it.\n",
              "          root.style.height = `${height}px`;\n",
              "        }\n",
              "        const root = document.getElementById(\"root\");\n",
              "        fetch(\".\")\n",
              "          .then((x) => x.text())\n",
              "          .then((html) => void (root.innerHTML = html))\n",
              "          .then(() => fixUpTensorboard(root))\n",
              "          .then(() => executeAllScripts(root))\n",
              "          .then(() => setHeight(root, 800));\n",
              "      })();\n",
              "    </script>\n",
              "  "
            ],
            "text/plain": [
              "<IPython.core.display.HTML object>"
            ]
          },
          "metadata": {
            "tags": []
          }
        }
      ]
    },
    {
      "cell_type": "markdown",
      "metadata": {
        "id": "Ep7TSCcFaavF",
        "colab_type": "text"
      },
      "source": [
        "## Create trained model"
      ]
    },
    {
      "cell_type": "code",
      "metadata": {
        "id": "m1O64yp5zBle",
        "colab_type": "code",
        "colab": {
          "base_uri": "https://localhost:8080/",
          "height": 1000
        },
        "outputId": "9e0a3047-04a7-45ab-a0db-f7f10e074b0b"
      },
      "source": [
        "import datetime\n",
        "\n",
        "wanted_words_str = ','.join(WANTED_WORDS)\n",
        "training_steps_str = ','.join([str(x) for x in TRAINING_STEPS])\n",
        "learning_rate_str = ','.join(LEARNING_RATE)\n",
        "\n",
        "TRAINING_RUN_NAME=\"{}-{}\".format(\n",
        "    wanted_words_str, datetime.datetime.now().strftime(\"%Y-%m-%dT%H:%M:%S\"))\n",
        "TRAIN_DIR = f'{DRIVE_STORAGE_PATH}/{TRAINING_RUN_NAME}'\n",
        "!mkdir -p \"{TRAIN_DIR}\"\n",
        "\n",
        "# Suppress INFO messages from C++ logging--these will slow down Colab and \n",
        "# eventually crash the browser.\n",
        "#--verbosity=INFO \\\n",
        "!python tensorflow/tensorflow/examples/speech_commands/train.py \\\n",
        "--model_architecture=tiny_conv --window_stride=20 --preprocess=micro \\\n",
        "--wanted_words={wanted_words_str} --silence_percentage=25 \\\n",
        "--unknown_percentage=25 --quantize=1 \\\n",
        "--how_many_training_steps={training_steps_str} \\\n",
        "--learning_rate={learning_rate_str} --summaries_dir=/content/retrain_logs \\\n",
        "--data_dir=/content/speech_dataset --train_dir=\"{TRAIN_DIR}\"\n",
        "\n",
        "!python tensorflow/tensorflow/examples/speech_commands/freeze.py \\\n",
        "--model_architecture=tiny_conv --window_stride=20 --preprocess=micro \\\n",
        "--wanted_words={wanted_words_str} --quantize=1 \\\n",
        "--output_file=\"{TRAIN_DIR}/tiny_conv.pb\" \\\n",
        "--start_checkpoint=\"{TRAIN_DIR}/tiny_conv.ckpt-{TOTAL_STEPS}\"\n",
        "\n",
        "!toco \\\n",
        "--graph_def_file=\"{TRAIN_DIR}/tiny_conv.pb\" \\\n",
        "--output_file=\"{TRAIN_DIR}/tiny_conv.tflite\" \\\n",
        "--input_shapes=1,49,40,1 --input_arrays=Reshape_2 \\\n",
        "--output_arrays='labels_softmax' \\\n",
        "--inference_type=QUANTIZED_UINT8 --mean_values=0 --std_dev_values=9.8077\n",
        "\n",
        "print('Training completed')\n",
        "print(f'The frozen graph is: {TRAIN_DIR}/tiny_conv.pb')\n",
        "print(f'The tflite graph is: {TRAIN_DIR}/tiny_conv.tflite')"
      ],
      "execution_count": null,
      "outputs": [
        {
          "output_type": "stream",
          "text": [
            "2019-11-07 18:07:26.441261: I tensorflow/core/platform/cpu_feature_guard.cc:142] Your CPU supports instructions that this TensorFlow binary was not compiled to use: AVX2 FMA\n",
            "2019-11-07 18:07:26.468283: I tensorflow/stream_executor/platform/default/dso_loader.cc:44] Successfully opened dynamic library libcuda.so.1\n",
            "2019-11-07 18:07:26.633034: I tensorflow/stream_executor/cuda/cuda_gpu_executor.cc:1006] successful NUMA node read from SysFS had negative value (-1), but there must be at least one NUMA node, so returning NUMA node zero\n",
            "2019-11-07 18:07:26.634206: I tensorflow/compiler/xla/service/service.cc:168] XLA service 0x2a32a00 executing computations on platform CUDA. Devices:\n",
            "2019-11-07 18:07:26.634239: I tensorflow/compiler/xla/service/service.cc:175]   StreamExecutor device (0): Tesla P100-PCIE-16GB, Compute Capability 6.0\n",
            "2019-11-07 18:07:26.637025: I tensorflow/core/platform/profile_utils/cpu_utils.cc:94] CPU Frequency: 2300000000 Hz\n",
            "2019-11-07 18:07:26.637402: I tensorflow/compiler/xla/service/service.cc:168] XLA service 0x2a32f40 executing computations on platform Host. Devices:\n",
            "2019-11-07 18:07:26.637440: I tensorflow/compiler/xla/service/service.cc:175]   StreamExecutor device (0): <undefined>, <undefined>\n",
            "2019-11-07 18:07:26.637732: I tensorflow/stream_executor/cuda/cuda_gpu_executor.cc:1006] successful NUMA node read from SysFS had negative value (-1), but there must be at least one NUMA node, so returning NUMA node zero\n",
            "2019-11-07 18:07:26.638689: I tensorflow/core/common_runtime/gpu/gpu_device.cc:1618] Found device 0 with properties: \n",
            "name: Tesla P100-PCIE-16GB major: 6 minor: 0 memoryClockRate(GHz): 1.3285\n",
            "pciBusID: 0000:00:04.0\n",
            "2019-11-07 18:07:26.652858: I tensorflow/stream_executor/platform/default/dso_loader.cc:44] Successfully opened dynamic library libcudart.so.10.0\n",
            "2019-11-07 18:07:26.865587: I tensorflow/stream_executor/platform/default/dso_loader.cc:44] Successfully opened dynamic library libcublas.so.10.0\n",
            "2019-11-07 18:07:26.949446: I tensorflow/stream_executor/platform/default/dso_loader.cc:44] Successfully opened dynamic library libcufft.so.10.0\n",
            "2019-11-07 18:07:26.972549: I tensorflow/stream_executor/platform/default/dso_loader.cc:44] Successfully opened dynamic library libcurand.so.10.0\n",
            "2019-11-07 18:07:27.186749: I tensorflow/stream_executor/platform/default/dso_loader.cc:44] Successfully opened dynamic library libcusolver.so.10.0\n",
            "2019-11-07 18:07:27.308223: I tensorflow/stream_executor/platform/default/dso_loader.cc:44] Successfully opened dynamic library libcusparse.so.10.0\n",
            "2019-11-07 18:07:27.698831: I tensorflow/stream_executor/platform/default/dso_loader.cc:44] Successfully opened dynamic library libcudnn.so.7\n",
            "2019-11-07 18:07:27.699146: I tensorflow/stream_executor/cuda/cuda_gpu_executor.cc:1006] successful NUMA node read from SysFS had negative value (-1), but there must be at least one NUMA node, so returning NUMA node zero\n",
            "2019-11-07 18:07:27.700204: I tensorflow/stream_executor/cuda/cuda_gpu_executor.cc:1006] successful NUMA node read from SysFS had negative value (-1), but there must be at least one NUMA node, so returning NUMA node zero\n",
            "2019-11-07 18:07:27.701097: I tensorflow/core/common_runtime/gpu/gpu_device.cc:1746] Adding visible gpu devices: 0\n",
            "2019-11-07 18:07:27.701210: I tensorflow/stream_executor/platform/default/dso_loader.cc:44] Successfully opened dynamic library libcudart.so.10.0\n",
            "2019-11-07 18:07:27.702877: I tensorflow/core/common_runtime/gpu/gpu_device.cc:1159] Device interconnect StreamExecutor with strength 1 edge matrix:\n",
            "2019-11-07 18:07:27.702911: I tensorflow/core/common_runtime/gpu/gpu_device.cc:1165]      0 \n",
            "2019-11-07 18:07:27.702928: I tensorflow/core/common_runtime/gpu/gpu_device.cc:1178] 0:   N \n",
            "2019-11-07 18:07:27.703088: I tensorflow/stream_executor/cuda/cuda_gpu_executor.cc:1006] successful NUMA node read from SysFS had negative value (-1), but there must be at least one NUMA node, so returning NUMA node zero\n",
            "2019-11-07 18:07:27.704094: I tensorflow/stream_executor/cuda/cuda_gpu_executor.cc:1006] successful NUMA node read from SysFS had negative value (-1), but there must be at least one NUMA node, so returning NUMA node zero\n",
            "2019-11-07 18:07:27.705000: I tensorflow/core/common_runtime/gpu/gpu_device.cc:1304] Created TensorFlow device (/job:localhost/replica:0/task:0/device:GPU:0 with 15216 MB memory) -> physical GPU (device: 0, name: Tesla P100-PCIE-16GB, pci bus id: 0000:00:04.0, compute capability: 6.0)\n",
            ">> Downloading speech_commands_v0.02.tar.gz 100.0%\n",
            "INFO:tensorflow:Successfully downloaded speech_commands_v0.02.tar.gz (2428923189 bytes)\n",
            "I1107 18:08:29.130372 139711392343936 input_data.py:242] Successfully downloaded speech_commands_v0.02.tar.gz (2428923189 bytes)\n",
            "2019-11-07 18:09:42.102600: I tensorflow/stream_executor/cuda/cuda_gpu_executor.cc:1006] successful NUMA node read from SysFS had negative value (-1), but there must be at least one NUMA node, so returning NUMA node zero\n",
            "2019-11-07 18:09:42.103652: I tensorflow/core/common_runtime/gpu/gpu_device.cc:1618] Found device 0 with properties: \n",
            "name: Tesla P100-PCIE-16GB major: 6 minor: 0 memoryClockRate(GHz): 1.3285\n",
            "pciBusID: 0000:00:04.0\n",
            "2019-11-07 18:09:42.103753: I tensorflow/stream_executor/platform/default/dso_loader.cc:44] Successfully opened dynamic library libcudart.so.10.0\n",
            "2019-11-07 18:09:42.103795: I tensorflow/stream_executor/platform/default/dso_loader.cc:44] Successfully opened dynamic library libcublas.so.10.0\n",
            "2019-11-07 18:09:42.103845: I tensorflow/stream_executor/platform/default/dso_loader.cc:44] Successfully opened dynamic library libcufft.so.10.0\n",
            "2019-11-07 18:09:42.103888: I tensorflow/stream_executor/platform/default/dso_loader.cc:44] Successfully opened dynamic library libcurand.so.10.0\n",
            "2019-11-07 18:09:42.103928: I tensorflow/stream_executor/platform/default/dso_loader.cc:44] Successfully opened dynamic library libcusolver.so.10.0\n",
            "2019-11-07 18:09:42.103970: I tensorflow/stream_executor/platform/default/dso_loader.cc:44] Successfully opened dynamic library libcusparse.so.10.0\n",
            "2019-11-07 18:09:42.104016: I tensorflow/stream_executor/platform/default/dso_loader.cc:44] Successfully opened dynamic library libcudnn.so.7\n",
            "2019-11-07 18:09:42.104139: I tensorflow/stream_executor/cuda/cuda_gpu_executor.cc:1006] successful NUMA node read from SysFS had negative value (-1), but there must be at least one NUMA node, so returning NUMA node zero\n",
            "2019-11-07 18:09:42.105008: I tensorflow/stream_executor/cuda/cuda_gpu_executor.cc:1006] successful NUMA node read from SysFS had negative value (-1), but there must be at least one NUMA node, so returning NUMA node zero\n",
            "2019-11-07 18:09:42.106135: I tensorflow/core/common_runtime/gpu/gpu_device.cc:1746] Adding visible gpu devices: 0\n",
            "2019-11-07 18:09:42.106880: I tensorflow/stream_executor/cuda/cuda_gpu_executor.cc:1006] successful NUMA node read from SysFS had negative value (-1), but there must be at least one NUMA node, so returning NUMA node zero\n",
            "2019-11-07 18:09:42.107721: I tensorflow/core/common_runtime/gpu/gpu_device.cc:1618] Found device 0 with properties: \n",
            "name: Tesla P100-PCIE-16GB major: 6 minor: 0 memoryClockRate(GHz): 1.3285\n",
            "pciBusID: 0000:00:04.0\n",
            "2019-11-07 18:09:42.107775: I tensorflow/stream_executor/platform/default/dso_loader.cc:44] Successfully opened dynamic library libcudart.so.10.0\n",
            "2019-11-07 18:09:42.107825: I tensorflow/stream_executor/platform/default/dso_loader.cc:44] Successfully opened dynamic library libcublas.so.10.0\n",
            "2019-11-07 18:09:42.107866: I tensorflow/stream_executor/platform/default/dso_loader.cc:44] Successfully opened dynamic library libcufft.so.10.0\n",
            "2019-11-07 18:09:42.107916: I tensorflow/stream_executor/platform/default/dso_loader.cc:44] Successfully opened dynamic library libcurand.so.10.0\n",
            "2019-11-07 18:09:42.107970: I tensorflow/stream_executor/platform/default/dso_loader.cc:44] Successfully opened dynamic library libcusolver.so.10.0\n",
            "2019-11-07 18:09:42.108008: I tensorflow/stream_executor/platform/default/dso_loader.cc:44] Successfully opened dynamic library libcusparse.so.10.0\n",
            "2019-11-07 18:09:42.108044: I tensorflow/stream_executor/platform/default/dso_loader.cc:44] Successfully opened dynamic library libcudnn.so.7\n",
            "2019-11-07 18:09:42.108192: I tensorflow/stream_executor/cuda/cuda_gpu_executor.cc:1006] successful NUMA node read from SysFS had negative value (-1), but there must be at least one NUMA node, so returning NUMA node zero\n",
            "2019-11-07 18:09:42.109220: I tensorflow/stream_executor/cuda/cuda_gpu_executor.cc:1006] successful NUMA node read from SysFS had negative value (-1), but there must be at least one NUMA node, so returning NUMA node zero\n",
            "2019-11-07 18:09:42.110113: I tensorflow/core/common_runtime/gpu/gpu_device.cc:1746] Adding visible gpu devices: 0\n",
            "2019-11-07 18:09:42.110195: I tensorflow/core/common_runtime/gpu/gpu_device.cc:1159] Device interconnect StreamExecutor with strength 1 edge matrix:\n",
            "2019-11-07 18:09:42.110218: I tensorflow/core/common_runtime/gpu/gpu_device.cc:1165]      0 \n",
            "2019-11-07 18:09:42.110238: I tensorflow/core/common_runtime/gpu/gpu_device.cc:1178] 0:   N \n",
            "2019-11-07 18:09:42.110385: I tensorflow/stream_executor/cuda/cuda_gpu_executor.cc:1006] successful NUMA node read from SysFS had negative value (-1), but there must be at least one NUMA node, so returning NUMA node zero\n",
            "2019-11-07 18:09:42.111366: I tensorflow/stream_executor/cuda/cuda_gpu_executor.cc:1006] successful NUMA node read from SysFS had negative value (-1), but there must be at least one NUMA node, so returning NUMA node zero\n",
            "2019-11-07 18:09:42.112245: I tensorflow/core/common_runtime/gpu/gpu_device.cc:1304] Created TensorFlow device (/job:localhost/replica:0/task:0/device:GPU:0 with 15216 MB memory) -> physical GPU (device: 0, name: Tesla P100-PCIE-16GB, pci bus id: 0000:00:04.0, compute capability: 6.0)\n",
            "WARNING:tensorflow:From /content/tensorflow/tensorflow/examples/speech_commands/models.py:737: calling dropout (from tensorflow.python.ops.nn_ops) with keep_prob is deprecated and will be removed in a future version.\n",
            "Instructions for updating:\n",
            "Please use `rate` instead of `keep_prob`. Rate should be set to `rate = 1 - keep_prob`.\n",
            "W1107 18:09:42.469828 139711392343936 deprecation.py:506] From /content/tensorflow/tensorflow/examples/speech_commands/models.py:737: calling dropout (from tensorflow.python.ops.nn_ops) with keep_prob is deprecated and will be removed in a future version.\n",
            "Instructions for updating:\n",
            "Please use `rate` instead of `keep_prob`. Rate should be set to `rate = 1 - keep_prob`.\n",
            "WARNING:tensorflow:From /usr/local/lib/python3.6/dist-packages/tensorflow_core/python/ops/losses/losses_impl.py:121: where (from tensorflow.python.ops.array_ops) is deprecated and will be removed in a future version.\n",
            "Instructions for updating:\n",
            "Use tf.where in 2.0, which has the same broadcast rule as np.where\n",
            "W1107 18:09:42.508430 139711392343936 deprecation.py:323] From /usr/local/lib/python3.6/dist-packages/tensorflow_core/python/ops/losses/losses_impl.py:121: where (from tensorflow.python.ops.array_ops) is deprecated and will be removed in a future version.\n",
            "Instructions for updating:\n",
            "Use tf.where in 2.0, which has the same broadcast rule as np.where\n",
            "WARNING:tensorflow:\n",
            "The TensorFlow contrib module will not be included in TensorFlow 2.0.\n",
            "For more information, please see:\n",
            "  * https://github.com/tensorflow/community/blob/master/rfcs/20180907-contrib-sunset.md\n",
            "  * https://github.com/tensorflow/addons\n",
            "  * https://github.com/tensorflow/io (for I/O related ops)\n",
            "If you depend on functionality not listed there, please file an issue.\n",
            "\n",
            "W1107 18:09:42.517910 139711392343936 lazy_loader.py:50] \n",
            "The TensorFlow contrib module will not be included in TensorFlow 2.0.\n",
            "For more information, please see:\n",
            "  * https://github.com/tensorflow/community/blob/master/rfcs/20180907-contrib-sunset.md\n",
            "  * https://github.com/tensorflow/addons\n",
            "  * https://github.com/tensorflow/io (for I/O related ops)\n",
            "If you depend on functionality not listed there, please file an issue.\n",
            "\n",
            "INFO:tensorflow:Skipping quant after add\n",
            "I1107 18:09:42.655977 139711392343936 quantize.py:299] Skipping quant after add\n",
            "INFO:tensorflow:Inserting fake quant op activation_Mul_quant after dropout/mul\n",
            "I1107 18:09:42.656330 139711392343936 quantize.py:262] Inserting fake quant op activation_Mul_quant after dropout/mul\n",
            "INFO:tensorflow:Inserting fake quant op activation_Mul_quant after dropout/mul_1\n",
            "I1107 18:09:42.707504 139711392343936 quantize.py:262] Inserting fake quant op activation_Mul_quant after dropout/mul_1\n",
            "INFO:tensorflow:Training from step: 1 \n",
            "I1107 18:09:46.529650 139711392343936 train.py:195] Training from step: 1 \n",
            "2019-11-07 18:09:47.331490: I tensorflow/stream_executor/platform/default/dso_loader.cc:44] Successfully opened dynamic library libcublas.so.10.0\n",
            "2019-11-07 18:09:48.266472: I tensorflow/stream_executor/platform/default/dso_loader.cc:44] Successfully opened dynamic library libcudnn.so.7\n",
            "INFO:tensorflow:Saving to \"/content/drive/My Drive/speech-recognition/yes,no-2019-11-07T18:07:21/tiny_conv.ckpt-100\"\n",
            "I1107 18:10:35.425713 139711392343936 train.py:276] Saving to \"/content/drive/My Drive/speech-recognition/yes,no-2019-11-07T18:07:21/tiny_conv.ckpt-100\"\n",
            "INFO:tensorflow:Saving to \"/content/drive/My Drive/speech-recognition/yes,no-2019-11-07T18:07:21/tiny_conv.ckpt-200\"\n",
            "I1107 18:11:20.157722 139711392343936 train.py:276] Saving to \"/content/drive/My Drive/speech-recognition/yes,no-2019-11-07T18:07:21/tiny_conv.ckpt-200\"\n",
            "INFO:tensorflow:Saving to \"/content/drive/My Drive/speech-recognition/yes,no-2019-11-07T18:07:21/tiny_conv.ckpt-300\"\n",
            "I1107 18:12:04.886381 139711392343936 train.py:276] Saving to \"/content/drive/My Drive/speech-recognition/yes,no-2019-11-07T18:07:21/tiny_conv.ckpt-300\"\n",
            "INFO:tensorflow:Confusion Matrix:\n",
            " [[180   4  11   6]\n",
            " [  0  50  40 111]\n",
            " [  3   5 372  17]\n",
            " [  6   4  22 374]]\n",
            "I1107 18:12:54.345376 139711392343936 train.py:266] Confusion Matrix:\n",
            " [[180   4  11   6]\n",
            " [  0  50  40 111]\n",
            " [  3   5 372  17]\n",
            " [  6   4  22 374]]\n",
            "INFO:tensorflow:Step 400: Validation accuracy = 81.0% (N=1205)\n",
            "I1107 18:12:54.345749 139711392343936 train.py:268] Step 400: Validation accuracy = 81.0% (N=1205)\n",
            "INFO:tensorflow:Saving to \"/content/drive/My Drive/speech-recognition/yes,no-2019-11-07T18:07:21/tiny_conv.ckpt-400\"\n",
            "I1107 18:12:54.345866 139711392343936 train.py:276] Saving to \"/content/drive/My Drive/speech-recognition/yes,no-2019-11-07T18:07:21/tiny_conv.ckpt-400\"\n",
            "INFO:tensorflow:Saving to \"/content/drive/My Drive/speech-recognition/yes,no-2019-11-07T18:07:21/tiny_conv.ckpt-500\"\n",
            "I1107 18:13:38.972972 139711392343936 train.py:276] Saving to \"/content/drive/My Drive/speech-recognition/yes,no-2019-11-07T18:07:21/tiny_conv.ckpt-500\"\n",
            "INFO:tensorflow:Saving to \"/content/drive/My Drive/speech-recognition/yes,no-2019-11-07T18:07:21/tiny_conv.ckpt-600\"\n",
            "I1107 18:14:23.489708 139711392343936 train.py:276] Saving to \"/content/drive/My Drive/speech-recognition/yes,no-2019-11-07T18:07:21/tiny_conv.ckpt-600\"\n",
            "WARNING:tensorflow:From /usr/local/lib/python3.6/dist-packages/tensorflow_core/python/training/saver.py:963: remove_checkpoint (from tensorflow.python.training.checkpoint_management) is deprecated and will be removed in a future version.\n",
            "Instructions for updating:\n",
            "Use standard file APIs to delete files with this prefix.\n",
            "W1107 18:14:23.511930 139711392343936 deprecation.py:323] From /usr/local/lib/python3.6/dist-packages/tensorflow_core/python/training/saver.py:963: remove_checkpoint (from tensorflow.python.training.checkpoint_management) is deprecated and will be removed in a future version.\n",
            "Instructions for updating:\n",
            "Use standard file APIs to delete files with this prefix.\n",
            "Traceback (most recent call last):\n",
            "  File \"tensorflow/tensorflow/examples/speech_commands/train.py\", line 486, in <module>\n",
            "    tf.compat.v1.app.run(main=main, argv=[sys.argv[0]] + unparsed)\n",
            "  File \"/usr/local/lib/python3.6/dist-packages/tensorflow_core/python/platform/app.py\", line 40, in run\n",
            "    _run(main=main, argv=argv, flags_parser=_parse_flags_tolerate_undef)\n",
            "  File \"/usr/local/lib/python3.6/dist-packages/absl/app.py\", line 299, in run\n",
            "    _run_main(main, args)\n",
            "  File \"/usr/local/lib/python3.6/dist-packages/absl/app.py\", line 250, in _run_main\n",
            "    sys.exit(main(argv))\n",
            "  File \"tensorflow/tensorflow/examples/speech_commands/train.py\", line 220, in main\n",
            "    FLAGS.background_volume, time_shift_samples, 'training', sess)\n",
            "  File \"/content/tensorflow/tensorflow/examples/speech_commands/input_data.py\", line 603, in get_data\n",
            "    [self.merged_summaries_, self.output_], feed_dict=input_dict)\n",
            "  File \"/usr/local/lib/python3.6/dist-packages/tensorflow_core/python/client/session.py\", line 949, in run\n",
            "    run_metadata_ptr)\n",
            "  File \"/usr/local/lib/python3.6/dist-packages/tensorflow_core/python/client/session.py\", line 1172, in _run\n",
            "    feed_dict_tensor, options, run_metadata)\n",
            "  File \"/usr/local/lib/python3.6/dist-packages/tensorflow_core/python/client/session.py\", line 1350, in _do_run\n",
            "    run_metadata)\n",
            "  File \"/usr/local/lib/python3.6/dist-packages/tensorflow_core/python/client/session.py\", line 1356, in _do_call\n",
            "    return fn(*args)\n",
            "  File \"/usr/local/lib/python3.6/dist-packages/tensorflow_core/python/client/session.py\", line 1341, in _run_fn\n",
            "    target_list, run_metadata)\n",
            "  File \"/usr/local/lib/python3.6/dist-packages/tensorflow_core/python/client/session.py\", line 1434, in _call_tf_sessionrun\n",
            "    run_metadata)\n",
            "KeyboardInterrupt\n",
            "2019-11-07 18:15:09.790396: I tensorflow/core/platform/cpu_feature_guard.cc:142] Your CPU supports instructions that this TensorFlow binary was not compiled to use: AVX2 FMA\n",
            "2019-11-07 18:15:09.807323: I tensorflow/stream_executor/platform/default/dso_loader.cc:44] Successfully opened dynamic library libcuda.so.1\n",
            "2019-11-07 18:15:09.915753: I tensorflow/stream_executor/cuda/cuda_gpu_executor.cc:1006] successful NUMA node read from SysFS had negative value (-1), but there must be at least one NUMA node, so returning NUMA node zero\n",
            "2019-11-07 18:15:09.916984: I tensorflow/compiler/xla/service/service.cc:168] XLA service 0x1414bc0 executing computations on platform CUDA. Devices:\n",
            "2019-11-07 18:15:09.917019: I tensorflow/compiler/xla/service/service.cc:175]   StreamExecutor device (0): Tesla P100-PCIE-16GB, Compute Capability 6.0\n",
            "2019-11-07 18:15:09.919168: I tensorflow/core/platform/profile_utils/cpu_utils.cc:94] CPU Frequency: 2300000000 Hz\n",
            "2019-11-07 18:15:09.919560: I tensorflow/compiler/xla/service/service.cc:168] XLA service 0x1415100 executing computations on platform Host. Devices:\n",
            "2019-11-07 18:15:09.919604: I tensorflow/compiler/xla/service/service.cc:175]   StreamExecutor device (0): <undefined>, <undefined>\n",
            "2019-11-07 18:15:09.919833: I tensorflow/stream_executor/cuda/cuda_gpu_executor.cc:1006] successful NUMA node read from SysFS had negative value (-1), but there must be at least one NUMA node, so returning NUMA node zero\n",
            "2019-11-07 18:15:09.920751: I tensorflow/core/common_runtime/gpu/gpu_device.cc:1618] Found device 0 with properties: \n",
            "name: Tesla P100-PCIE-16GB major: 6 minor: 0 memoryClockRate(GHz): 1.3285\n",
            "pciBusID: 0000:00:04.0\n",
            "2019-11-07 18:15:09.924003: I tensorflow/stream_executor/platform/default/dso_loader.cc:44] Successfully opened dynamic library libcudart.so.10.0\n",
            "2019-11-07 18:15:09.925557: I tensorflow/stream_executor/platform/default/dso_loader.cc:44] Successfully opened dynamic library libcublas.so.10.0\n",
            "2019-11-07 18:15:09.929748: I tensorflow/stream_executor/platform/default/dso_loader.cc:44] Successfully opened dynamic library libcufft.so.10.0\n",
            "2019-11-07 18:15:09.937091: I tensorflow/stream_executor/platform/default/dso_loader.cc:44] Successfully opened dynamic library libcurand.so.10.0\n",
            "2019-11-07 18:15:09.947333: I tensorflow/stream_executor/platform/default/dso_loader.cc:44] Successfully opened dynamic library libcusolver.so.10.0\n",
            "2019-11-07 18:15:09.953234: I tensorflow/stream_executor/platform/default/dso_loader.cc:44] Successfully opened dynamic library libcusparse.so.10.0\n",
            "2019-11-07 18:15:09.965405: I tensorflow/stream_executor/platform/default/dso_loader.cc:44] Successfully opened dynamic library libcudnn.so.7\n",
            "2019-11-07 18:15:09.965552: I tensorflow/stream_executor/cuda/cuda_gpu_executor.cc:1006] successful NUMA node read from SysFS had negative value (-1), but there must be at least one NUMA node, so returning NUMA node zero\n",
            "2019-11-07 18:15:09.966586: I tensorflow/stream_executor/cuda/cuda_gpu_executor.cc:1006] successful NUMA node read from SysFS had negative value (-1), but there must be at least one NUMA node, so returning NUMA node zero\n",
            "2019-11-07 18:15:09.967491: I tensorflow/core/common_runtime/gpu/gpu_device.cc:1746] Adding visible gpu devices: 0\n",
            "2019-11-07 18:15:09.967557: I tensorflow/stream_executor/platform/default/dso_loader.cc:44] Successfully opened dynamic library libcudart.so.10.0\n",
            "2019-11-07 18:15:09.969174: I tensorflow/core/common_runtime/gpu/gpu_device.cc:1159] Device interconnect StreamExecutor with strength 1 edge matrix:\n",
            "2019-11-07 18:15:09.969234: I tensorflow/core/common_runtime/gpu/gpu_device.cc:1165]      0 \n",
            "2019-11-07 18:15:09.969267: I tensorflow/core/common_runtime/gpu/gpu_device.cc:1178] 0:   N \n",
            "2019-11-07 18:15:09.969417: I tensorflow/stream_executor/cuda/cuda_gpu_executor.cc:1006] successful NUMA node read from SysFS had negative value (-1), but there must be at least one NUMA node, so returning NUMA node zero\n",
            "2019-11-07 18:15:09.970321: I tensorflow/stream_executor/cuda/cuda_gpu_executor.cc:1006] successful NUMA node read from SysFS had negative value (-1), but there must be at least one NUMA node, so returning NUMA node zero\n",
            "2019-11-07 18:15:09.971317: I tensorflow/core/common_runtime/gpu/gpu_device.cc:1304] Created TensorFlow device (/job:localhost/replica:0/task:0/device:GPU:0 with 15216 MB memory) -> physical GPU (device: 0, name: Tesla P100-PCIE-16GB, pci bus id: 0000:00:04.0, compute capability: 6.0)\n",
            "WARNING:tensorflow:\n",
            "The TensorFlow contrib module will not be included in TensorFlow 2.0.\n",
            "For more information, please see:\n",
            "  * https://github.com/tensorflow/community/blob/master/rfcs/20180907-contrib-sunset.md\n",
            "  * https://github.com/tensorflow/addons\n",
            "  * https://github.com/tensorflow/io (for I/O related ops)\n",
            "If you depend on functionality not listed there, please file an issue.\n",
            "\n",
            "W1107 18:15:10.013071 139642252801920 lazy_loader.py:50] \n",
            "The TensorFlow contrib module will not be included in TensorFlow 2.0.\n",
            "For more information, please see:\n",
            "  * https://github.com/tensorflow/community/blob/master/rfcs/20180907-contrib-sunset.md\n",
            "  * https://github.com/tensorflow/addons\n",
            "  * https://github.com/tensorflow/io (for I/O related ops)\n",
            "If you depend on functionality not listed there, please file an issue.\n",
            "\n",
            "INFO:tensorflow:Skipping quant after add\n",
            "I1107 18:15:10.048014 139642252801920 quantize.py:299] Skipping quant after add\n",
            "Traceback (most recent call last):\n",
            "  File \"tensorflow/tensorflow/examples/speech_commands/freeze.py\", line 240, in <module>\n",
            "    tf.compat.v1.app.run(main=main, argv=[sys.argv[0]] + unparsed)\n",
            "  File \"/usr/local/lib/python3.6/dist-packages/tensorflow_core/python/platform/app.py\", line 40, in run\n",
            "    _run(main=main, argv=argv, flags_parser=_parse_flags_tolerate_undef)\n",
            "  File \"/usr/local/lib/python3.6/dist-packages/absl/app.py\", line 299, in run\n",
            "    _run_main(main, args)\n",
            "  File \"/usr/local/lib/python3.6/dist-packages/absl/app.py\", line 250, in _run_main\n",
            "    sys.exit(main(argv))\n",
            "  File \"tensorflow/tensorflow/examples/speech_commands/freeze.py\", line 166, in main\n",
            "    models.load_variables_from_checkpoint(sess, FLAGS.start_checkpoint)\n",
            "  File \"/content/tensorflow/tensorflow/examples/speech_commands/models.py\", line 161, in load_variables_from_checkpoint\n",
            "    saver.restore(sess, start_checkpoint)\n",
            "  File \"/usr/local/lib/python3.6/dist-packages/tensorflow_core/python/training/saver.py\", line 1282, in restore\n",
            "    checkpoint_prefix)\n",
            "ValueError: The passed save_path is not a valid checkpoint: /content/drive/My Drive/speech-recognition/yes,no-2019-11-07T18:07:21/tiny_conv.ckpt-18000\n",
            "2019-11-07 18:15:13.543273: I tensorflow/stream_executor/platform/default/dso_loader.cc:44] Successfully opened dynamic library libcuda.so.1\n",
            "2019-11-07 18:15:13.558597: I tensorflow/stream_executor/cuda/cuda_gpu_executor.cc:1006] successful NUMA node read from SysFS had negative value (-1), but there must be at least one NUMA node, so returning NUMA node zero\n",
            "2019-11-07 18:15:13.559482: I tensorflow/core/common_runtime/gpu/gpu_device.cc:1618] Found device 0 with properties: \n",
            "name: Tesla P100-PCIE-16GB major: 6 minor: 0 memoryClockRate(GHz): 1.3285\n",
            "pciBusID: 0000:00:04.0\n",
            "2019-11-07 18:15:13.559772: I tensorflow/stream_executor/platform/default/dso_loader.cc:44] Successfully opened dynamic library libcudart.so.10.0\n",
            "2019-11-07 18:15:13.560943: I tensorflow/stream_executor/platform/default/dso_loader.cc:44] Successfully opened dynamic library libcublas.so.10.0\n",
            "2019-11-07 18:15:13.569429: I tensorflow/stream_executor/platform/default/dso_loader.cc:44] Successfully opened dynamic library libcufft.so.10.0\n",
            "2019-11-07 18:15:13.569783: I tensorflow/stream_executor/platform/default/dso_loader.cc:44] Successfully opened dynamic library libcurand.so.10.0\n",
            "2019-11-07 18:15:13.571282: I tensorflow/stream_executor/platform/default/dso_loader.cc:44] Successfully opened dynamic library libcusolver.so.10.0\n",
            "2019-11-07 18:15:13.578893: I tensorflow/stream_executor/platform/default/dso_loader.cc:44] Successfully opened dynamic library libcusparse.so.10.0\n",
            "2019-11-07 18:15:13.588878: I tensorflow/stream_executor/platform/default/dso_loader.cc:44] Successfully opened dynamic library libcudnn.so.7\n",
            "2019-11-07 18:15:13.589060: I tensorflow/stream_executor/cuda/cuda_gpu_executor.cc:1006] successful NUMA node read from SysFS had negative value (-1), but there must be at least one NUMA node, so returning NUMA node zero\n",
            "2019-11-07 18:15:13.590053: I tensorflow/stream_executor/cuda/cuda_gpu_executor.cc:1006] successful NUMA node read from SysFS had negative value (-1), but there must be at least one NUMA node, so returning NUMA node zero\n",
            "2019-11-07 18:15:13.590977: I tensorflow/core/common_runtime/gpu/gpu_device.cc:1746] Adding visible gpu devices: 0\n",
            "2019-11-07 18:15:13.591389: I tensorflow/core/platform/cpu_feature_guard.cc:142] Your CPU supports instructions that this TensorFlow binary was not compiled to use: AVX2 FMA\n",
            "2019-11-07 18:15:13.687403: I tensorflow/stream_executor/cuda/cuda_gpu_executor.cc:1006] successful NUMA node read from SysFS had negative value (-1), but there must be at least one NUMA node, so returning NUMA node zero\n",
            "2019-11-07 18:15:13.688418: I tensorflow/compiler/xla/service/service.cc:168] XLA service 0x301c840 executing computations on platform CUDA. Devices:\n",
            "2019-11-07 18:15:13.688451: I tensorflow/compiler/xla/service/service.cc:175]   StreamExecutor device (0): Tesla P100-PCIE-16GB, Compute Capability 6.0\n",
            "2019-11-07 18:15:13.691118: I tensorflow/core/platform/profile_utils/cpu_utils.cc:94] CPU Frequency: 2300000000 Hz\n",
            "2019-11-07 18:15:13.691512: I tensorflow/compiler/xla/service/service.cc:168] XLA service 0x301cd80 executing computations on platform Host. Devices:\n",
            "2019-11-07 18:15:13.691546: I tensorflow/compiler/xla/service/service.cc:175]   StreamExecutor device (0): <undefined>, <undefined>\n",
            "2019-11-07 18:15:13.691754: I tensorflow/stream_executor/cuda/cuda_gpu_executor.cc:1006] successful NUMA node read from SysFS had negative value (-1), but there must be at least one NUMA node, so returning NUMA node zero\n",
            "2019-11-07 18:15:13.692635: I tensorflow/core/common_runtime/gpu/gpu_device.cc:1618] Found device 0 with properties: \n",
            "name: Tesla P100-PCIE-16GB major: 6 minor: 0 memoryClockRate(GHz): 1.3285\n",
            "pciBusID: 0000:00:04.0\n",
            "2019-11-07 18:15:13.692730: I tensorflow/stream_executor/platform/default/dso_loader.cc:44] Successfully opened dynamic library libcudart.so.10.0\n",
            "2019-11-07 18:15:13.692764: I tensorflow/stream_executor/platform/default/dso_loader.cc:44] Successfully opened dynamic library libcublas.so.10.0\n",
            "2019-11-07 18:15:13.692816: I tensorflow/stream_executor/platform/default/dso_loader.cc:44] Successfully opened dynamic library libcufft.so.10.0\n",
            "2019-11-07 18:15:13.692855: I tensorflow/stream_executor/platform/default/dso_loader.cc:44] Successfully opened dynamic library libcurand.so.10.0\n",
            "2019-11-07 18:15:13.692886: I tensorflow/stream_executor/platform/default/dso_loader.cc:44] Successfully opened dynamic library libcusolver.so.10.0\n",
            "2019-11-07 18:15:13.692919: I tensorflow/stream_executor/platform/default/dso_loader.cc:44] Successfully opened dynamic library libcusparse.so.10.0\n",
            "2019-11-07 18:15:13.692952: I tensorflow/stream_executor/platform/default/dso_loader.cc:44] Successfully opened dynamic library libcudnn.so.7\n",
            "2019-11-07 18:15:13.693053: I tensorflow/stream_executor/cuda/cuda_gpu_executor.cc:1006] successful NUMA node read from SysFS had negative value (-1), but there must be at least one NUMA node, so returning NUMA node zero\n",
            "2019-11-07 18:15:13.694039: I tensorflow/stream_executor/cuda/cuda_gpu_executor.cc:1006] successful NUMA node read from SysFS had negative value (-1), but there must be at least one NUMA node, so returning NUMA node zero\n",
            "2019-11-07 18:15:13.694870: I tensorflow/core/common_runtime/gpu/gpu_device.cc:1746] Adding visible gpu devices: 0\n",
            "2019-11-07 18:15:13.694932: I tensorflow/stream_executor/platform/default/dso_loader.cc:44] Successfully opened dynamic library libcudart.so.10.0\n",
            "2019-11-07 18:15:13.696317: I tensorflow/core/common_runtime/gpu/gpu_device.cc:1159] Device interconnect StreamExecutor with strength 1 edge matrix:\n",
            "2019-11-07 18:15:13.696347: I tensorflow/core/common_runtime/gpu/gpu_device.cc:1165]      0 \n",
            "2019-11-07 18:15:13.696363: I tensorflow/core/common_runtime/gpu/gpu_device.cc:1178] 0:   N \n",
            "2019-11-07 18:15:13.696496: I tensorflow/stream_executor/cuda/cuda_gpu_executor.cc:1006] successful NUMA node read from SysFS had negative value (-1), but there must be at least one NUMA node, so returning NUMA node zero\n",
            "2019-11-07 18:15:13.697442: I tensorflow/stream_executor/cuda/cuda_gpu_executor.cc:1006] successful NUMA node read from SysFS had negative value (-1), but there must be at least one NUMA node, so returning NUMA node zero\n",
            "2019-11-07 18:15:13.698272: W tensorflow/core/common_runtime/gpu/gpu_bfc_allocator.cc:39] Overriding allow_growth setting because the TF_FORCE_GPU_ALLOW_GROWTH environment variable is set. Original config value was 0.\n",
            "2019-11-07 18:15:13.698316: I tensorflow/core/common_runtime/gpu/gpu_device.cc:1304] Created TensorFlow device (/job:localhost/replica:0/task:0/device:GPU:0 with 15216 MB memory) -> physical GPU (device: 0, name: Tesla P100-PCIE-16GB, pci bus id: 0000:00:04.0, compute capability: 6.0)\n",
            "Traceback (most recent call last):\n",
            "  File \"/usr/local/bin/toco\", line 8, in <module>\n",
            "    sys.exit(main())\n",
            "  File \"/usr/local/lib/python3.6/dist-packages/tensorflow_core/lite/python/tflite_convert.py\", line 515, in main\n",
            "    app.run(main=run_main, argv=sys.argv[:1])\n",
            "  File \"/usr/local/lib/python3.6/dist-packages/tensorflow_core/python/platform/app.py\", line 40, in run\n",
            "    _run(main=main, argv=argv, flags_parser=_parse_flags_tolerate_undef)\n",
            "  File \"/usr/local/lib/python3.6/dist-packages/absl/app.py\", line 299, in run\n",
            "    _run_main(main, args)\n",
            "  File \"/usr/local/lib/python3.6/dist-packages/absl/app.py\", line 250, in _run_main\n",
            "    sys.exit(main(argv))\n",
            "  File \"/usr/local/lib/python3.6/dist-packages/tensorflow_core/lite/python/tflite_convert.py\", line 511, in run_main\n",
            "    _convert_tf1_model(tflite_flags)\n",
            "  File \"/usr/local/lib/python3.6/dist-packages/tensorflow_core/lite/python/tflite_convert.py\", line 124, in _convert_tf1_model\n",
            "    converter = _get_toco_converter(flags)\n",
            "  File \"/usr/local/lib/python3.6/dist-packages/tensorflow_core/lite/python/tflite_convert.py\", line 111, in _get_toco_converter\n",
            "    return converter_fn(**converter_kwargs)\n",
            "  File \"/usr/local/lib/python3.6/dist-packages/tensorflow_core/lite/python/lite.py\", line 668, in from_frozen_graph\n",
            "    raise IOError(\"File '{0}' does not exist.\".format(graph_def_file))\n",
            "OSError: File '/content/drive/My Drive/speech-recognition/yes,no-2019-11-07T18:07:21/tiny_conv.pb' does not exist.\n",
            "Training completed\n",
            "The frozen graph is: /content/drive/My Drive/speech-recognition/yes,no-2019-11-07T18:07:21/tiny_conv.pb\n",
            "The tflite graph is: /content/drive/My Drive/speech-recognition/yes,no-2019-11-07T18:07:21/tiny_conv.tflite\n"
          ],
          "name": "stdout"
        }
      ]
    },
    {
      "cell_type": "markdown",
      "metadata": {
        "id": "FSwVAMRFOFE4",
        "colab_type": "text"
      },
      "source": [
        "## Spot checks"
      ]
    },
    {
      "cell_type": "code",
      "metadata": {
        "id": "2HqVZ9-j8FBL",
        "colab_type": "code",
        "colab": {
          "base_uri": "https://localhost:8080/",
          "height": 278
        },
        "outputId": "17bc0820-80d6-4278-eb31-df643fc6f09e"
      },
      "source": [
        "import os.path\n",
        "if not os.path.exists('/content/speech_dataset'):\n",
        "  !wget https://storage.googleapis.com/download.tensorflow.org/data/speech_commands_v0.02.tar.gz\n",
        "  !mkdir /content/speech_dataset\n",
        "  !tar -xzf speech_commands_v0.02.tar.gz -C /content/speech_dataset\n",
        "\n",
        "ensure_drive()\n",
        "\n",
        "\n",
        "for phrase in ('yes', 'no', 'right'):\n",
        "  wav = !ls -1 /content/speech_dataset/{phrase}/*.wav | head -n 1\n",
        "  wav = wav[0]\n",
        "\n",
        "  print('')\n",
        "  print(f'{phrase:10s} <' + '-' * 69)\n",
        "  !cd tensorflow && python tensorflow/examples/speech_commands/label_wav.py --graph=\"{TRAIN_DIR}/tiny_conv.pb\" --labels=\"{TRAIN_DIR}/tiny_conv_labels.txt\" --wav={wav} 2>/dev/null\n"
      ],
      "execution_count": null,
      "outputs": [
        {
          "output_type": "stream",
          "text": [
            "\n",
            "yes        <---------------------------------------------------------------------\n",
            "yes (score = 0.99978)\n",
            "_unknown_ (score = 0.00020)\n",
            "no (score = 0.00003)\n",
            "\n",
            "no         <---------------------------------------------------------------------\n",
            "no (score = 0.96930)\n",
            "_unknown_ (score = 0.02235)\n",
            "yes (score = 0.00833)\n",
            "\n",
            "right      <---------------------------------------------------------------------\n",
            "_unknown_ (score = 0.99154)\n",
            "no (score = 0.00779)\n",
            "yes (score = 0.00063)\n"
          ],
          "name": "stdout"
        }
      ]
    }
  ]
}